{
 "cells": [
  {
   "cell_type": "markdown",
   "metadata": {
    "id": "FlZbnwB52nsS"
   },
   "source": [
    "# Initiation au Machine Learning - Classification des iris\n",
    "\n",
    "### Objectifs d'apprentissage\n",
    "+ Manipulation de notebooks python (*calepins électroniques*).\n",
    "+ Découverte de librairies de fonctions python pour le calcul scientifique, les statistiques, la visualisation de données et l'apprentissage statistique.\n",
    "+ Utilisation de quelques algorithmes de machine learning.\n",
    "\n",
    "### Objectifs du TP\n",
    "+ Charger et observer un jeu de données classique de l'apprentissage statistique (base de données des iris).\n",
    "+ Utiliser la regression logistique pour la classification des iris.\n",
    "+ Découvrir et implémenter seul un nouveau classifieur (bayésien).\n",
    "\n",
    "### Consignes\n",
    "+ Un compte-rendu de ce TP vous sera demandé. Merci d'utiliser pour cela ce calepin python, que vous completerez, commenterez, annoterez... Les réponses aux questions seront à ajouter dans des blocs indentés (que l'on crée avec un chevron > en début de ligne) si il s'agit de texte. Les blocs de codes ajoutés seront commentés.\n",
    "\n"
   ]
  },
  {
   "cell_type": "markdown",
   "metadata": {
    "id": "tnSpB0qnLtEi"
   },
   "source": [
    "# Chargement et visualisation des données"
   ]
  },
  {
   "cell_type": "code",
   "execution_count": null,
   "metadata": {
    "id": "LyDC3Oai2i5v"
   },
   "outputs": [],
   "source": [
    "# import and load dataset\n",
    "from sklearn import datasets\n",
    "iris = datasets.load_iris()\n",
    "\n",
    "# define data and labels\n",
    "data = iris.data\n",
    "target = iris.target"
   ]
  },
  {
   "cell_type": "markdown",
   "metadata": {
    "id": "O9ZtDnQp9vDb"
   },
   "source": [
    "Q1) Qu'est-ce que ***sklearn*** dans la première ligne du bloc de code ci-dessus ? Que contient cette librairie ?\n"
   ]
  },
  {
   "cell_type": "code",
   "execution_count": null,
   "metadata": {
    "id": "j6CT8aPH6FPH"
   },
   "outputs": [],
   "source": [
    "# load matplotlib and numpy\n",
    "%matplotlib inline\n",
    "import matplotlib.pyplot as plt\n",
    "import matplotlib as mpl\n",
    "import numpy as np"
   ]
  },
  {
   "cell_type": "markdown",
   "metadata": {
    "id": "MRyWRs9sC_l6"
   },
   "source": [
    "Q2) Qu'est-ce que ***matplotlib*** ? Qu'est-ce que ***numpy*** ? En quoi ***numpy*** est-elle importante pour le machine learning ?"
   ]
  },
  {
   "cell_type": "code",
   "execution_count": null,
   "metadata": {
    "id": "UluszD9eHW6E"
   },
   "outputs": [],
   "source": [
    "fig = plt.figure(figsize=(8, 4))\n",
    "fig.subplots_adjust(hspace=0.4, wspace=0.4)\n",
    "\n",
    "# left plot\n",
    "ax1 = plt.subplot(1,2,1)\n",
    "\n",
    "clist = ['violet', 'yellow', 'blue']\n",
    "colors = [clist[c] for c in iris.target]\n",
    "\n",
    "ax1.scatter(data[:, 0], data[:, 1], c=colors)\n",
    "plt.xlabel('Longueur du sépal (cm)')\n",
    "plt.ylabel('Largueur du sépal (cm)')\n",
    "\n",
    "# right plot\n",
    "ax2 = plt.subplot(1,2,2)\n",
    "\n",
    "ax2.scatter(data[:, 2], data[:, 3], color=colors)\n",
    "\n",
    "plt.xlabel('Longueur du pétal (cm)')\n",
    "plt.ylabel('Largueur du pétal (cm)')\n",
    "\n",
    "# legend\n",
    "for ind, s in enumerate(iris.target_names):\n",
    "    plt.scatter([], [], label=s, color=clist[ind])\n",
    "\n",
    "plt.legend(scatterpoints=1, frameon=False, labelspacing=1\n",
    "           , bbox_to_anchor=(1.8, .5) , loc=\"center right\", title='Espèces')\n",
    "plt.plot();"
   ]
  },
  {
   "cell_type": "code",
   "execution_count": null,
   "metadata": {
    "id": "P-dPuHNAK6C2"
   },
   "outputs": [],
   "source": [
    "import pandas as pd\n",
    "df = pd.DataFrame(data, columns=iris['feature_names'] )\n",
    "df['target'] = target\n",
    "df['label'] = df.apply(lambda x: iris['target_names'][int(x.target)], axis=1)\n",
    "df.head()"
   ]
  },
  {
   "cell_type": "code",
   "execution_count": null,
   "metadata": {
    "id": "HWO2isqfLYne"
   },
   "outputs": [],
   "source": [
    "import seaborn as sns\n",
    "sns.set()\n",
    "sns.pairplot(df, hue='label', vars=iris['feature_names'], height=2);"
   ]
  },
  {
   "cell_type": "markdown",
   "metadata": {
    "id": "Zo9f0VuWMJS7"
   },
   "source": [
    "Q3) A quoi servent ***pandas*** et ***seaborn*** ?\n",
    "\n",
    "Q4) Décrire le jeu de données ***iris***. Combien contient-il d'exemples ? Quelles sont les variables d'entrées ? Que va t-on chercher à prédire ?\n",
    "\n",
    "Q5) A quoi correspondent les ***pairplot*** ? Que vous inspirent t-ils vis-à-vis de la classification des iris ?"
   ]
  },
  {
   "cell_type": "markdown",
   "metadata": {
    "id": "Dn47G35xN5YO"
   },
   "source": [
    "# Regression logistique"
   ]
  },
  {
   "cell_type": "code",
   "execution_count": null,
   "metadata": {
    "id": "nfidtPqmLgQ4"
   },
   "outputs": [],
   "source": [
    "from sklearn.linear_model import LogisticRegression\n",
    "clf = LogisticRegression()\n",
    "clf.fit(data, target)\n",
    "result = clf.predict(data)"
   ]
  },
  {
   "cell_type": "markdown",
   "metadata": {
    "id": "ujp2quUmOZpO"
   },
   "source": [
    "Q6) Expliquer chacune des quatre lignes du bloc de code ci-dessus. Si l'exécution du code donne un message d'erreur ou un avertissement, l'expliquer et le résoudre."
   ]
  },
  {
   "cell_type": "code",
   "execution_count": null,
   "metadata": {
    "id": "BqonZA5GM2NP"
   },
   "outputs": [],
   "source": [
    "errors = sum(result != target)\n",
    "print(\"Nombre d'erreurs :\", errors)\n",
    "print(\"Pourcentage de prédiction juste :\", (result.size-errors)*100/result.size)"
   ]
  },
  {
   "cell_type": "code",
   "execution_count": null,
   "metadata": {
    "id": "kQUvCbUfPIEg"
   },
   "outputs": [],
   "source": [
    "from sklearn.metrics import accuracy_score\n",
    "print(\"Précision :\", accuracy_score(result, target))"
   ]
  },
  {
   "cell_type": "markdown",
   "metadata": {
    "id": "hMDSM97rRt3b"
   },
   "source": [
    "Q7) Les deux blocs précédents remplissent le même rôle. Expliquer."
   ]
  },
  {
   "cell_type": "code",
   "execution_count": null,
   "metadata": {
    "id": "IyQl_HOxQRy5"
   },
   "outputs": [],
   "source": [
    "from sklearn.metrics import confusion_matrix\n",
    "conf = confusion_matrix(target, result)\n",
    "sns.heatmap(conf, square=True, annot=True, cbar=False\n",
    "            , xticklabels=list(iris.target_names)\n",
    "            , yticklabels=list(iris.target_names))\n",
    "plt.xlabel('valeurs prédites')\n",
    "plt.ylabel('valeurs réelles');"
   ]
  },
  {
   "cell_type": "markdown",
   "metadata": {
    "id": "pEbEkWUKV_-z"
   },
   "source": [
    "Q8) Le bloc précédent affiche la matrice de confusion du classifieur. Qu'est-ce qu'une matrice de confusion ? Que nous apprend-t-elle ? Cela vous semble-t-il cohérent avec ce qui était visible sur les pairplot ?"
   ]
  },
  {
   "cell_type": "code",
   "execution_count": null,
   "metadata": {
    "id": "UfL2URaYWfPZ"
   },
   "outputs": [],
   "source": [
    "from sklearn.model_selection import train_test_split\n",
    "data_split = train_test_split(data, target, random_state=0, train_size=0.5)\n",
    "data_train, data_test, target_train, target_test = data_split"
   ]
  },
  {
   "cell_type": "markdown",
   "metadata": {
    "id": "cNBALNaZkEJ2"
   },
   "source": [
    "Q9) A quoi sert la fonction ***train_test_split*** ? Le paramètre ***train_size*** ? Entrainer un classifieur de type regression logistique pour différentes valeurs de ce paramètre et commenter les résultats obtenus. Pourquoi n'utilise t-on pas d'ensemble de validation ?\n"
   ]
  },
  {
   "cell_type": "markdown",
   "metadata": {
    "id": "uugOnUBtoM7J"
   },
   "source": [
    "# Classification naïve bayésienne\n",
    "Utilisons maintenant un autre classifieur que la regression logistique : la classification naïve bayésienne (*naive bayes classification*).\n",
    "\n",
    "Q10) Qu'est-ce que la classification naïve bayésienne ?\n",
    "\n",
    "Q11) Essayer ce classifieur et comparer les résultats obtenus avec la regression logistique."
   ]
  }
 ],
 "metadata": {
  "colab": {
   "collapsed_sections": [],
   "name": "TP Initiation ML",
   "provenance": []
  },
  "kernelspec": {
   "display_name": "Python 3",
   "language": "python",
   "name": "python3"
  },
  "language_info": {
   "codemirror_mode": {
    "name": "ipython",
    "version": 3
   },
   "file_extension": ".py",
   "mimetype": "text/x-python",
   "name": "python",
   "nbconvert_exporter": "python",
   "pygments_lexer": "ipython3",
   "version": "3.8.8"
  }
 },
 "nbformat": 4,
 "nbformat_minor": 1
}
